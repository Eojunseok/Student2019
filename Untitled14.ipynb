{
  "nbformat": 4,
  "nbformat_minor": 0,
  "metadata": {
    "colab": {
      "provenance": [],
      "authorship_tag": "ABX9TyNRiRqLKwo//XcW6ASe6QNf",
      "include_colab_link": true
    },
    "kernelspec": {
      "name": "python3",
      "display_name": "Python 3"
    },
    "language_info": {
      "name": "python"
    }
  },
  "cells": [
    {
      "cell_type": "markdown",
      "metadata": {
        "id": "view-in-github",
        "colab_type": "text"
      },
      "source": [
        "<a href=\"https://colab.research.google.com/github/Eojunseok/Student2019/blob/main/Untitled14.ipynb\" target=\"_parent\"><img src=\"https://colab.research.google.com/assets/colab-badge.svg\" alt=\"Open In Colab\"/></a>"
      ]
    },
    {
      "cell_type": "code",
      "execution_count": 50,
      "metadata": {
        "colab": {
          "base_uri": "https://localhost:8080/"
        },
        "id": "0ap6XkeVwgJw",
        "outputId": "d46e2dcc-d061-4de8-faca-2bcd79e97da9"
      },
      "outputs": [
        {
          "output_type": "stream",
          "name": "stdout",
          "text": [
            "x의 평균값 :  5.0\n",
            "y의 평균값 :  90.5\n",
            "분모 :  20.0\n",
            "분자 :  46.0\n",
            "기울기 a =  2.3\n",
            "y 절편 b =  79.0\n"
          ]
        }
      ],
      "source": [
        "import numpy as np\n",
        "\n",
        "x = [2, 4, 6, 8]\n",
        "y = [81, 93, 91, 97]\n",
        "\n",
        "mx = np.mean(x)\n",
        "my = np.mean(y)\n",
        "\n",
        "divisor = sum([(i - mx)**2 for i in x])\n",
        "\n",
        "def 분자(x, mx, y, my):\n",
        "    d = 0\n",
        "    for i in range(len(x)):\n",
        "        d += (x[i] - mx) * (y[i] - my)\n",
        "    return d\n",
        "dividend = 분자(x, mx, y, my)\n",
        "\n",
        "a = dividend / divisor\n",
        "\n",
        "b = my - (mx*a)\n",
        "\n",
        "print(\"x의 평균값 : \", mx)\n",
        "print(\"y의 평균값 : \", my)\n",
        "print(\"분모 : \", divisor)\n",
        "print(\"분자 : \", dividend)\n",
        "print(\"기울기 a = \", a)\n",
        "print(\"y 절편 b = \", b)\n",
        "\n"
      ]
    },
    {
      "cell_type": "code",
      "source": [
        "import numpy as np\n",
        "\n",
        "\n",
        "fake_a_b = [3, 76]\n",
        "\n",
        "data = [[2, 81], [4, 93], [6, 91], [8, 97]]\n",
        "\n",
        "\n",
        "x = [i[0] for i in data]\n",
        "y = [i[1] for i in data]\n",
        "\n",
        "\n",
        "def predict(x):\n",
        "    return fake_a_b[0]*x + fake_a_b[1]\n",
        "\n",
        "\n",
        "def mse(y, y_hat):\n",
        "    return ((y-y_hat)**2).mean()\n",
        "\n",
        "\n",
        "def mse_(y, predict_result):\n",
        "    return mse(np.array(y), np.array(predict_result))\n",
        "\n",
        "\n",
        "predict_result = []\n",
        "\n",
        "for i in range(len(x)):\n",
        "  predict_result.append(predict(x[i]))\n",
        "  print(\"공부시간=%f, 실제 점수=%f, 예측 점수=%f\" % (x[i], y[i], predict(x[i])))\n",
        "\n",
        "print(\"mse 최종값 : \"+ str(mse_(y, predict_result)))\n"
      ],
      "metadata": {
        "colab": {
          "base_uri": "https://localhost:8080/"
        },
        "id": "KtfjPs8_6_S_",
        "outputId": "8d99fc8e-af31-4085-dc69-d683f6ca1cc4"
      },
      "execution_count": 49,
      "outputs": [
        {
          "output_type": "stream",
          "name": "stdout",
          "text": [
            "공부시간=2.000000, 실제 점수=81.000000, 예측 점수=82.000000\n",
            "공부시간=4.000000, 실제 점수=93.000000, 예측 점수=88.000000\n",
            "공부시간=6.000000, 실제 점수=91.000000, 예측 점수=94.000000\n",
            "공부시간=8.000000, 실제 점수=97.000000, 예측 점수=100.000000\n",
            "mse 최종값 : 11.0\n"
          ]
        }
      ]
    }
  ]
}